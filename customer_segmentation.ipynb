{
 "cells": [
  {
   "cell_type": "markdown",
   "id": "50bdf49f",
   "metadata": {},
   "source": [
    "# Customer Segmentation Using K-Means\n",
    "This notebook demonstrates a simple example of using K-Means clustering to segment customers based on their average monthly spend and transaction count."
   ]
  },
  {
   "cell_type": "code",
   "execution_count": null,
   "id": "40947134",
   "metadata": {},
   "outputs": [],
   "source": [
    "import pandas as pd\n",
    "import matplotlib.pyplot as plt\n",
    "import seaborn as sns\n",
    "from sklearn.preprocessing import StandardScaler\n",
    "from sklearn.cluster import KMeans\n",
    "\n",
    "# Load data\n",
    "data = pd.read_csv('customer_behavior.csv')\n",
    "data.head()"
   ]
  },
  {
   "cell_type": "code",
   "execution_count": null,
   "id": "32445e63",
   "metadata": {},
   "outputs": [],
   "source": [
    "# Plot raw data\n",
    "sns.scatterplot(data=data, x='avg_monthly_spend', y='transaction_count')\n",
    "plt.title('Customer Behavior Before Clustering')\n",
    "plt.show()"
   ]
  },
  {
   "cell_type": "code",
   "execution_count": null,
   "id": "95140891",
   "metadata": {},
   "outputs": [],
   "source": [
    "# Scale data before clustering\n",
    "scaler = StandardScaler()\n",
    "scaled_data = scaler.fit_transform(data)"
   ]
  },
  {
   "cell_type": "code",
   "execution_count": null,
   "id": "68f7c057",
   "metadata": {},
   "outputs": [],
   "source": [
    "# Fit K-Means\n",
    "kmeans = KMeans(n_clusters=3, random_state=42)\n",
    "data['cluster'] = kmeans.fit_predict(scaled_data)"
   ]
  },
  {
   "cell_type": "code",
   "execution_count": null,
   "id": "1b8c6ea3",
   "metadata": {},
   "outputs": [],
   "source": [
    "# Plot clustered data\n",
    "sns.scatterplot(data=data, x='avg_monthly_spend', y='transaction_count', hue='cluster', palette='Set2')\n",
    "plt.title('Customer Segments')\n",
    "plt.xlabel('Avg Monthly Spend')\n",
    "plt.ylabel('Transaction Count')\n",
    "plt.show()"
   ]
  },
  {
   "cell_type": "markdown",
   "id": "b3433603",
   "metadata": {},
   "source": [
    "### Conclusion\n",
    "This simple example demonstrates how clustering can be used to group customers by behavior. Such segmentation can help businesses design targeted financial products or services."
   ]
  }
 ],
 "metadata": {},
 "nbformat": 4,
 "nbformat_minor": 5
}
